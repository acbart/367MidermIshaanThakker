{
 "cells": [
  {
   "cell_type": "markdown",
   "id": "informative-forest",
   "metadata": {},
   "source": [
    "# CISC 367 Midterm Messy Notebook"
   ]
  },
  {
   "cell_type": "markdown",
   "id": "extensive-prophet",
   "metadata": {},
   "source": [
    "<em> Ishaan Thakker </em>"
   ]
  },
  {
   "cell_type": "markdown",
   "id": "rapid-maker",
   "metadata": {},
   "source": [
    "* When first coming up with exactly what I wanted my research to include one stock such as APPL and the S&P 500 index\n",
    "* Using this idea and inspiration from Dr. Bart I realized that it was probably a good idea to include many different companies and analyze them to possibly compare different parts of the market, where the risk is and isn't"
   ]
  },
  {
   "cell_type": "markdown",
   "id": "continuing-logan",
   "metadata": {},
   "source": [
    "Copy over details from midterm background and add more definitions and insight on analysis"
   ]
  },
  {
   "cell_type": "markdown",
   "id": "funded-johnston",
   "metadata": {},
   "source": [
    "Set up the data\n",
    "\n"
   ]
  },
  {
   "cell_type": "code",
   "execution_count": 35,
   "id": "maritime-hartford",
   "metadata": {},
   "outputs": [
    {
     "name": "stdout",
     "output_type": "stream",
     "text": [
      "<class 'pandas.core.frame.DataFrame'>\n",
      "Int64Index: 10162 entries, 10161 to 0\n",
      "Data columns (total 7 columns):\n",
      " #   Column     Non-Null Count  Dtype  \n",
      "---  ------     --------------  -----  \n",
      " 0   Date       10162 non-null  object \n",
      " 1   Open       10161 non-null  float64\n",
      " 2   High       10161 non-null  float64\n",
      " 3   Low        10161 non-null  float64\n",
      " 4   Close      10161 non-null  float64\n",
      " 5   Adj Close  10161 non-null  float64\n",
      " 6   Volume     10161 non-null  float64\n",
      "dtypes: float64(6), object(1)\n",
      "memory usage: 635.1+ KB\n"
     ]
    }
   ],
   "source": [
    "import pandas as pd\n",
    "from scipy import stats\n",
    "import matplotlib.pyplot as plt\n",
    "import seaborn as sns\n",
    "from datetime import datetime\n",
    "\n",
    "\n",
    "#Apple \n",
    "AAPL = pd.read_csv(\"data/AAPL.csv\")\n",
    "#Microsoft \n",
    "MSFT = pd.read_csv(\"data/MSFT.csv\")\n",
    "#Tesla\n",
    "TSLA = pd.read_csv(\"data/TSLA.csv\")\n",
    "#Nike\n",
    "NKE = pd.read_csv(\"data/NKE.csv\")\n",
    "#Gamestop\n",
    "GME = pd.read_csv(\"data/GME.csv\")\n",
    "#S&P 500\n",
    "SP500 = pd.read_csv(\"data/constituents_csv.csv\")\n",
    "\n",
    "AAPL.sort_values(by = ['Date'], inplace = True, ascending = False)\n",
    "MSFT.sort_values(by = ['Date'], inplace = True, ascending = False)\n",
    "TSLA.sort_values(by = ['Date'], inplace = True, ascending = False)\n",
    "NKE.sort_values(by = ['Date'], inplace = True, ascending = False)\n",
    "GME.sort_values(by = ['Date'], inplace = True, ascending = False)\n",
    "AAPL.info()"
   ]
  },
  {
   "cell_type": "code",
   "execution_count": 36,
   "id": "tropical-costs",
   "metadata": {},
   "outputs": [
    {
     "name": "stdout",
     "output_type": "stream",
     "text": [
      "11\n"
     ]
    },
    {
     "data": {
      "text/plain": [
       "array(['Industrials', 'Health Care', 'Information Technology',\n",
       "       'Communication Services', 'Consumer Discretionary', 'Utilities',\n",
       "       'Financials', 'Materials', 'Real Estate', 'Consumer Staples',\n",
       "       'Energy'], dtype=object)"
      ]
     },
     "execution_count": 36,
     "metadata": {},
     "output_type": "execute_result"
    }
   ],
   "source": [
    "sec_list = SP500[\"Sector\"].unique()\n",
    "print(len(sec_list))\n",
    "sec_list"
   ]
  },
  {
   "cell_type": "markdown",
   "id": "buried-lighting",
   "metadata": {},
   "source": [
    "Using Stock Market Data"
   ]
  },
  {
   "cell_type": "code",
   "execution_count": 37,
   "id": "neutral-estonia",
   "metadata": {},
   "outputs": [
    {
     "data": {
      "text/html": [
       "<div>\n",
       "<style scoped>\n",
       "    .dataframe tbody tr th:only-of-type {\n",
       "        vertical-align: middle;\n",
       "    }\n",
       "\n",
       "    .dataframe tbody tr th {\n",
       "        vertical-align: top;\n",
       "    }\n",
       "\n",
       "    .dataframe thead th {\n",
       "        text-align: right;\n",
       "    }\n",
       "</style>\n",
       "<table border=\"1\" class=\"dataframe\">\n",
       "  <thead>\n",
       "    <tr style=\"text-align: right;\">\n",
       "      <th></th>\n",
       "      <th>Date</th>\n",
       "      <th>Open</th>\n",
       "      <th>High</th>\n",
       "      <th>Low</th>\n",
       "      <th>Close</th>\n",
       "      <th>Adj Close</th>\n",
       "      <th>Volume</th>\n",
       "    </tr>\n",
       "  </thead>\n",
       "  <tbody>\n",
       "    <tr>\n",
       "      <th>10161</th>\n",
       "      <td>2021-04-01</td>\n",
       "      <td>123.660004</td>\n",
       "      <td>124.180000</td>\n",
       "      <td>122.489998</td>\n",
       "      <td>123.000000</td>\n",
       "      <td>123.000000</td>\n",
       "      <td>74957400.0</td>\n",
       "    </tr>\n",
       "    <tr>\n",
       "      <th>10160</th>\n",
       "      <td>2021-03-31</td>\n",
       "      <td>121.650002</td>\n",
       "      <td>123.519997</td>\n",
       "      <td>121.150002</td>\n",
       "      <td>122.150002</td>\n",
       "      <td>122.150002</td>\n",
       "      <td>118323800.0</td>\n",
       "    </tr>\n",
       "    <tr>\n",
       "      <th>10159</th>\n",
       "      <td>2021-03-30</td>\n",
       "      <td>120.110001</td>\n",
       "      <td>120.400002</td>\n",
       "      <td>118.860001</td>\n",
       "      <td>119.900002</td>\n",
       "      <td>119.900002</td>\n",
       "      <td>85671900.0</td>\n",
       "    </tr>\n",
       "    <tr>\n",
       "      <th>10158</th>\n",
       "      <td>2021-03-29</td>\n",
       "      <td>121.650002</td>\n",
       "      <td>122.580002</td>\n",
       "      <td>120.730003</td>\n",
       "      <td>121.389999</td>\n",
       "      <td>121.389999</td>\n",
       "      <td>80819200.0</td>\n",
       "    </tr>\n",
       "    <tr>\n",
       "      <th>10157</th>\n",
       "      <td>2021-03-26</td>\n",
       "      <td>120.349998</td>\n",
       "      <td>121.480003</td>\n",
       "      <td>118.919998</td>\n",
       "      <td>121.209999</td>\n",
       "      <td>121.209999</td>\n",
       "      <td>93958900.0</td>\n",
       "    </tr>\n",
       "  </tbody>\n",
       "</table>\n",
       "</div>"
      ],
      "text/plain": [
       "             Date        Open        High         Low       Close   Adj Close  \\\n",
       "10161  2021-04-01  123.660004  124.180000  122.489998  123.000000  123.000000   \n",
       "10160  2021-03-31  121.650002  123.519997  121.150002  122.150002  122.150002   \n",
       "10159  2021-03-30  120.110001  120.400002  118.860001  119.900002  119.900002   \n",
       "10158  2021-03-29  121.650002  122.580002  120.730003  121.389999  121.389999   \n",
       "10157  2021-03-26  120.349998  121.480003  118.919998  121.209999  121.209999   \n",
       "\n",
       "            Volume  \n",
       "10161   74957400.0  \n",
       "10160  118323800.0  \n",
       "10159   85671900.0  \n",
       "10158   80819200.0  \n",
       "10157   93958900.0  "
      ]
     },
     "execution_count": 37,
     "metadata": {},
     "output_type": "execute_result"
    }
   ],
   "source": [
    "AAPL.head()"
   ]
  },
  {
   "cell_type": "markdown",
   "id": "described-metallic",
   "metadata": {},
   "source": [
    "### What can we learn from a particular stocks change in price over time?"
   ]
  },
  {
   "cell_type": "code",
   "execution_count": 39,
   "id": "automotive-spanking",
   "metadata": {},
   "outputs": [
    {
     "ename": "ValueError",
     "evalue": "time data '2021-04-01' does not match format '%Y%m%d' (match)",
     "output_type": "error",
     "traceback": [
      "\u001b[1;31m---------------------------------------------------------------------------\u001b[0m",
      "\u001b[1;31mTypeError\u001b[0m                                 Traceback (most recent call last)",
      "\u001b[1;32mc:\\users\\13023\\cisc367-projects\\venv\\lib\\site-packages\\pandas\\core\\tools\\datetimes.py\u001b[0m in \u001b[0;36m_convert_listlike_datetimes\u001b[1;34m(arg, format, name, tz, unit, errors, infer_datetime_format, dayfirst, yearfirst, exact)\u001b[0m\n\u001b[0;32m    455\u001b[0m             \u001b[1;32mtry\u001b[0m\u001b[1;33m:\u001b[0m\u001b[1;33m\u001b[0m\u001b[1;33m\u001b[0m\u001b[0m\n\u001b[1;32m--> 456\u001b[1;33m                 \u001b[0mvalues\u001b[0m\u001b[1;33m,\u001b[0m \u001b[0mtz\u001b[0m \u001b[1;33m=\u001b[0m \u001b[0mconversion\u001b[0m\u001b[1;33m.\u001b[0m\u001b[0mdatetime_to_datetime64\u001b[0m\u001b[1;33m(\u001b[0m\u001b[0marg\u001b[0m\u001b[1;33m)\u001b[0m\u001b[1;33m\u001b[0m\u001b[1;33m\u001b[0m\u001b[0m\n\u001b[0m\u001b[0;32m    457\u001b[0m                 \u001b[0mdta\u001b[0m \u001b[1;33m=\u001b[0m \u001b[0mDatetimeArray\u001b[0m\u001b[1;33m(\u001b[0m\u001b[0mvalues\u001b[0m\u001b[1;33m,\u001b[0m \u001b[0mdtype\u001b[0m\u001b[1;33m=\u001b[0m\u001b[0mtz_to_dtype\u001b[0m\u001b[1;33m(\u001b[0m\u001b[0mtz\u001b[0m\u001b[1;33m)\u001b[0m\u001b[1;33m)\u001b[0m\u001b[1;33m\u001b[0m\u001b[1;33m\u001b[0m\u001b[0m\n",
      "\u001b[1;32mpandas\\_libs\\tslibs\\conversion.pyx\u001b[0m in \u001b[0;36mpandas._libs.tslibs.conversion.datetime_to_datetime64\u001b[1;34m()\u001b[0m\n",
      "\u001b[1;31mTypeError\u001b[0m: Unrecognized value type: <class 'str'>",
      "\nDuring handling of the above exception, another exception occurred:\n",
      "\u001b[1;31mValueError\u001b[0m                                Traceback (most recent call last)",
      "\u001b[1;32m<ipython-input-39-ea3d2b16e834>\u001b[0m in \u001b[0;36m<module>\u001b[1;34m\u001b[0m\n\u001b[0;32m      1\u001b[0m \u001b[1;31m#FIX: Figure out how to plot with certain dates\u001b[0m\u001b[1;33m\u001b[0m\u001b[1;33m\u001b[0m\u001b[1;33m\u001b[0m\u001b[0m\n\u001b[0;32m      2\u001b[0m \u001b[0mAAPL_price\u001b[0m \u001b[1;33m=\u001b[0m \u001b[0mAAPL\u001b[0m\u001b[1;33m.\u001b[0m\u001b[0mcopy\u001b[0m\u001b[1;33m(\u001b[0m\u001b[1;33m)\u001b[0m\u001b[1;33m\u001b[0m\u001b[1;33m\u001b[0m\u001b[0m\n\u001b[1;32m----> 3\u001b[1;33m \u001b[0mAAPL_price\u001b[0m\u001b[1;33m[\u001b[0m\u001b[1;34m'Date'\u001b[0m\u001b[1;33m]\u001b[0m \u001b[1;33m=\u001b[0m \u001b[0mpd\u001b[0m\u001b[1;33m.\u001b[0m\u001b[0mto_datetime\u001b[0m\u001b[1;33m(\u001b[0m\u001b[0mAAPL_price\u001b[0m\u001b[1;33m[\u001b[0m\u001b[1;34m'Date'\u001b[0m\u001b[1;33m]\u001b[0m\u001b[1;33m,\u001b[0m \u001b[0mformat\u001b[0m \u001b[1;33m=\u001b[0m \u001b[1;34m'%Y%m%d'\u001b[0m\u001b[1;33m)\u001b[0m\u001b[1;33m\u001b[0m\u001b[1;33m\u001b[0m\u001b[0m\n\u001b[0m\u001b[0;32m      4\u001b[0m \u001b[0mx\u001b[0m \u001b[1;33m=\u001b[0m \u001b[0mAAPL_price\u001b[0m\u001b[1;33m[\u001b[0m\u001b[1;34m\"Date\"\u001b[0m\u001b[1;33m]\u001b[0m\u001b[1;33m\u001b[0m\u001b[1;33m\u001b[0m\u001b[0m\n\u001b[0;32m      5\u001b[0m \u001b[0my\u001b[0m \u001b[1;33m=\u001b[0m \u001b[0mAAPL_price\u001b[0m\u001b[1;33m[\u001b[0m\u001b[1;34m\"Close\"\u001b[0m\u001b[1;33m]\u001b[0m\u001b[1;33m\u001b[0m\u001b[1;33m\u001b[0m\u001b[0m\n",
      "\u001b[1;32mc:\\users\\13023\\cisc367-projects\\venv\\lib\\site-packages\\pandas\\core\\tools\\datetimes.py\u001b[0m in \u001b[0;36mto_datetime\u001b[1;34m(arg, errors, dayfirst, yearfirst, utc, format, exact, unit, infer_datetime_format, origin, cache)\u001b[0m\n\u001b[0;32m    803\u001b[0m             \u001b[0mresult\u001b[0m \u001b[1;33m=\u001b[0m \u001b[0marg\u001b[0m\u001b[1;33m.\u001b[0m\u001b[0mmap\u001b[0m\u001b[1;33m(\u001b[0m\u001b[0mcache_array\u001b[0m\u001b[1;33m)\u001b[0m\u001b[1;33m\u001b[0m\u001b[1;33m\u001b[0m\u001b[0m\n\u001b[0;32m    804\u001b[0m         \u001b[1;32melse\u001b[0m\u001b[1;33m:\u001b[0m\u001b[1;33m\u001b[0m\u001b[1;33m\u001b[0m\u001b[0m\n\u001b[1;32m--> 805\u001b[1;33m             \u001b[0mvalues\u001b[0m \u001b[1;33m=\u001b[0m \u001b[0mconvert_listlike\u001b[0m\u001b[1;33m(\u001b[0m\u001b[0marg\u001b[0m\u001b[1;33m.\u001b[0m\u001b[0m_values\u001b[0m\u001b[1;33m,\u001b[0m \u001b[0mformat\u001b[0m\u001b[1;33m)\u001b[0m\u001b[1;33m\u001b[0m\u001b[1;33m\u001b[0m\u001b[0m\n\u001b[0m\u001b[0;32m    806\u001b[0m             \u001b[0mresult\u001b[0m \u001b[1;33m=\u001b[0m \u001b[0marg\u001b[0m\u001b[1;33m.\u001b[0m\u001b[0m_constructor\u001b[0m\u001b[1;33m(\u001b[0m\u001b[0mvalues\u001b[0m\u001b[1;33m,\u001b[0m \u001b[0mindex\u001b[0m\u001b[1;33m=\u001b[0m\u001b[0marg\u001b[0m\u001b[1;33m.\u001b[0m\u001b[0mindex\u001b[0m\u001b[1;33m,\u001b[0m \u001b[0mname\u001b[0m\u001b[1;33m=\u001b[0m\u001b[0marg\u001b[0m\u001b[1;33m.\u001b[0m\u001b[0mname\u001b[0m\u001b[1;33m)\u001b[0m\u001b[1;33m\u001b[0m\u001b[1;33m\u001b[0m\u001b[0m\n\u001b[0;32m    807\u001b[0m     \u001b[1;32melif\u001b[0m \u001b[0misinstance\u001b[0m\u001b[1;33m(\u001b[0m\u001b[0marg\u001b[0m\u001b[1;33m,\u001b[0m \u001b[1;33m(\u001b[0m\u001b[0mABCDataFrame\u001b[0m\u001b[1;33m,\u001b[0m \u001b[0mabc\u001b[0m\u001b[1;33m.\u001b[0m\u001b[0mMutableMapping\u001b[0m\u001b[1;33m)\u001b[0m\u001b[1;33m)\u001b[0m\u001b[1;33m:\u001b[0m\u001b[1;33m\u001b[0m\u001b[1;33m\u001b[0m\u001b[0m\n",
      "\u001b[1;32mc:\\users\\13023\\cisc367-projects\\venv\\lib\\site-packages\\pandas\\core\\tools\\datetimes.py\u001b[0m in \u001b[0;36m_convert_listlike_datetimes\u001b[1;34m(arg, format, name, tz, unit, errors, infer_datetime_format, dayfirst, yearfirst, exact)\u001b[0m\n\u001b[0;32m    458\u001b[0m                 \u001b[1;32mreturn\u001b[0m \u001b[0mDatetimeIndex\u001b[0m\u001b[1;33m.\u001b[0m\u001b[0m_simple_new\u001b[0m\u001b[1;33m(\u001b[0m\u001b[0mdta\u001b[0m\u001b[1;33m,\u001b[0m \u001b[0mname\u001b[0m\u001b[1;33m=\u001b[0m\u001b[0mname\u001b[0m\u001b[1;33m)\u001b[0m\u001b[1;33m\u001b[0m\u001b[1;33m\u001b[0m\u001b[0m\n\u001b[0;32m    459\u001b[0m             \u001b[1;32mexcept\u001b[0m \u001b[1;33m(\u001b[0m\u001b[0mValueError\u001b[0m\u001b[1;33m,\u001b[0m \u001b[0mTypeError\u001b[0m\u001b[1;33m)\u001b[0m\u001b[1;33m:\u001b[0m\u001b[1;33m\u001b[0m\u001b[1;33m\u001b[0m\u001b[0m\n\u001b[1;32m--> 460\u001b[1;33m                 \u001b[1;32mraise\u001b[0m \u001b[0me\u001b[0m\u001b[1;33m\u001b[0m\u001b[1;33m\u001b[0m\u001b[0m\n\u001b[0m\u001b[0;32m    461\u001b[0m \u001b[1;33m\u001b[0m\u001b[0m\n\u001b[0;32m    462\u001b[0m     \u001b[1;32mif\u001b[0m \u001b[0mresult\u001b[0m \u001b[1;32mis\u001b[0m \u001b[1;32mNone\u001b[0m\u001b[1;33m:\u001b[0m\u001b[1;33m\u001b[0m\u001b[1;33m\u001b[0m\u001b[0m\n",
      "\u001b[1;32mc:\\users\\13023\\cisc367-projects\\venv\\lib\\site-packages\\pandas\\core\\tools\\datetimes.py\u001b[0m in \u001b[0;36m_convert_listlike_datetimes\u001b[1;34m(arg, format, name, tz, unit, errors, infer_datetime_format, dayfirst, yearfirst, exact)\u001b[0m\n\u001b[0;32m    421\u001b[0m             \u001b[1;32mif\u001b[0m \u001b[0mresult\u001b[0m \u001b[1;32mis\u001b[0m \u001b[1;32mNone\u001b[0m\u001b[1;33m:\u001b[0m\u001b[1;33m\u001b[0m\u001b[1;33m\u001b[0m\u001b[0m\n\u001b[0;32m    422\u001b[0m                 \u001b[1;32mtry\u001b[0m\u001b[1;33m:\u001b[0m\u001b[1;33m\u001b[0m\u001b[1;33m\u001b[0m\u001b[0m\n\u001b[1;32m--> 423\u001b[1;33m                     result, timezones = array_strptime(\n\u001b[0m\u001b[0;32m    424\u001b[0m                         \u001b[0marg\u001b[0m\u001b[1;33m,\u001b[0m \u001b[0mformat\u001b[0m\u001b[1;33m,\u001b[0m \u001b[0mexact\u001b[0m\u001b[1;33m=\u001b[0m\u001b[0mexact\u001b[0m\u001b[1;33m,\u001b[0m \u001b[0merrors\u001b[0m\u001b[1;33m=\u001b[0m\u001b[0merrors\u001b[0m\u001b[1;33m\u001b[0m\u001b[1;33m\u001b[0m\u001b[0m\n\u001b[0;32m    425\u001b[0m                     )\n",
      "\u001b[1;32mpandas\\_libs\\tslibs\\strptime.pyx\u001b[0m in \u001b[0;36mpandas._libs.tslibs.strptime.array_strptime\u001b[1;34m()\u001b[0m\n",
      "\u001b[1;31mValueError\u001b[0m: time data '2021-04-01' does not match format '%Y%m%d' (match)"
     ]
    }
   ],
   "source": [
    "#FIX: Figure out how to plot with certain dates\n",
    "AAPL_price = AAPL.copy()\n",
    "AAPL_price['Date'] = pd.to_datetime(AAPL_price['Date'], format = '%Y%m%d')\n",
    "x = AAPL_price[\"Date\"]\n",
    "y = AAPL_price[\"Close\"]\n",
    "plt.plot(x,y)\n",
    "plt.show()"
   ]
  },
  {
   "cell_type": "code",
   "execution_count": null,
   "id": "pursuant-garlic",
   "metadata": {},
   "outputs": [],
   "source": [
    "MSFT['Close'].plot(legend = True, figsize = (20,4))"
   ]
  },
  {
   "cell_type": "code",
   "execution_count": null,
   "id": "devoted-activation",
   "metadata": {},
   "outputs": [],
   "source": [
    "TSLA['Close'].plot(legend = True, figsize = (20,4))"
   ]
  },
  {
   "cell_type": "code",
   "execution_count": null,
   "id": "piano-right",
   "metadata": {},
   "outputs": [],
   "source": [
    "NKE['Close'].plot(legend = True, figsize = (20,4))"
   ]
  },
  {
   "cell_type": "code",
   "execution_count": null,
   "id": "patient-immune",
   "metadata": {},
   "outputs": [],
   "source": [
    "GME['Close'].plot(legend = True, figsize = (20,4))"
   ]
  },
  {
   "cell_type": "markdown",
   "id": "recorded-resort",
   "metadata": {},
   "source": [
    "* Similar trends appearing in all graphs, we can start to see that with time, barring any crisis to a company, the return will always be positive. \n",
    "* But this does not really tell us about the risk\n",
    "* Look into short time intervals, lets say this past year is a good example since the pandemic affected the market greatly"
   ]
  },
  {
   "cell_type": "code",
   "execution_count": null,
   "id": "referenced-geography",
   "metadata": {},
   "outputs": [],
   "source": [
    "AAPL_short = AAPL.copy()\n",
    "AAPL_short['Date'] = pd.to_datetime(AAPL_short['Date'], format = '%Y%m%d')\n",
    "#AAPL.set_index('Date')\n",
    "filtered = AAPL_short[(AAPL_short['Date'] > '2020-01-04') & (AAPL_short['Date'] < '2021-01-04')]\n",
    "#filtered.set_index('Date')\n",
    "x = filtered['Date']\n",
    "y = filtered['Close']\n",
    "plt.plot(x,y, color = \"Green\")\n",
    "plt.title('AAPL 2019 1YR Chart')\n",
    "plt.show()\n",
    "\n",
    "filtered2 = AAPL_short[(AAPL_short['Date'] > '2019-01-04') & (AAPL_short['Date'] < '2020-01-04')]\n",
    "x = filtered2['Date']\n",
    "y = filtered2['Close']\n",
    "plt.plot(x,y, color = \"Orange\")\n",
    "plt.title('AAPL 2020 1YR Chart')\n",
    "plt.show()"
   ]
  },
  {
   "cell_type": "markdown",
   "id": "micro-shooting",
   "metadata": {},
   "source": [
    "An important thing to realize, this past year was way volaitle than most, in 2019 there was not alot of movement in the market besides for a minor selloff in June. This shows how real life events such as the pandemic play a huge part in the market. The massive run-up that was experienced from July 2019 to March 2021 was drastically decreased around the time quarentine began. But it can also be seen that it did not take long for the market to recover. A smart investor would have compared the data from the previous years and decided that March 2020 was a great buying opportunity. But since AAPL is a very fundamentally strong stock it did not experience the type of selloff that other companies in the airline and retail industry experienced."
   ]
  },
  {
   "cell_type": "markdown",
   "id": "aquatic-steps",
   "metadata": {},
   "source": [
    "### What do moving average and daily return indicate about certain companies?"
   ]
  },
  {
   "cell_type": "code",
   "execution_count": null,
   "id": "mental-movie",
   "metadata": {},
   "outputs": [],
   "source": [
    "#Moving average calculations\n",
    "ma_day = [10,20,50]\n",
    "for ma in ma_day:\n",
    "    column_name = \"MA for %s days\" %(str(ma))\n",
    "    AAPL[column_name] = AAPL['Adj Close'].rolling(window = ma, center = False).mean()\n",
    "AAPL.head(50)\n",
    "\n",
    "#Filtering data and plotting moving averages\n",
    "filtered = AAPL[(AAPL['Date'] > '2020-04-04') & (AAPL['Date'] < '2021-01-04')]\n",
    "filtered[['Adj Close', 'MA for 10 days', 'MA for 20 days', 'MA for 50 days']].plot(subplots = False, figsize = (12,5))"
   ]
  },
  {
   "cell_type": "markdown",
   "id": "capable-continuity",
   "metadata": {},
   "source": [
    "This graph shows that after the March lows of the market, the moving averages follow a nice pattern for the rest of the year. The moving average technical indicator smooths out price trends by filtering out the “noise” from random short-term price fluctuations. When asset prices cross over their moving averages, it may generate a trading signal for technical traders. [More on moving averages](https://www.investopedia.com/articles/active-trading/052014/how-use-moving-average-buy-stocks.asp)"
   ]
  },
  {
   "cell_type": "code",
   "execution_count": null,
   "id": "covered-message",
   "metadata": {},
   "outputs": [],
   "source": [
    "#Daily Return Calculations\n",
    "#Calculated by taking percent change over adjusted close prices\n",
    "AAPL['Daily Return'] = AAPL['Adj Close'].pct_change()\n",
    "AAPL['Daily Return'].head()"
   ]
  },
  {
   "cell_type": "code",
   "execution_count": null,
   "id": "declared-transcript",
   "metadata": {},
   "outputs": [],
   "source": [
    "#Displaying daily return\n",
    "\n",
    "AAPL['Date'] = pd.to_datetime(AAPL['Date'], format = '%Y%m%d')\n",
    "filtered = AAPL[(AAPL['Date'] > '2019-01-04') & (AAPL['Date'] < '2020-01-04')]\n",
    "filtered['Daily Return'].plot(figsize = (14,5), legend = True, linestyle = '--', marker = 'o')"
   ]
  },
  {
   "cell_type": "code",
   "execution_count": null,
   "id": "considerable-satisfaction",
   "metadata": {},
   "outputs": [],
   "source": [
    "sns.distplot(filtered2['Daily Return'].dropna(), bins = 100, color = 'green')"
   ]
  },
  {
   "cell_type": "markdown",
   "id": "enhanced-newspaper",
   "metadata": {},
   "source": [
    "Stock prices change on a daily basis, altering the value of your investments. You may calculate daily stock returns to monitor the magnitude of this change. The daily return measures the dollar change in a stock’s price as a percentage of the previous day’s closing price. A positive return means the stock has grown in value, while a negative return means it has lost value. A stock with lower positive and negative daily returns is typically less risky than a stock with higher daily returns, which create larger swings in value. In this graph positive returns are more frequent than negative returns which is a good sign when choosing a stock."
   ]
  },
  {
   "cell_type": "markdown",
   "id": "precious-desktop",
   "metadata": {},
   "source": [
    "### What is the correlation between daily returns of different stocks?"
   ]
  },
  {
   "cell_type": "markdown",
   "id": "nervous-kruger",
   "metadata": {},
   "source": [
    "Now that we have analysis on daily returns for one it is time to select a few different ones and see what we can learn from it."
   ]
  },
  {
   "cell_type": "code",
   "execution_count": null,
   "id": "spiritual-trance",
   "metadata": {},
   "outputs": [],
   "source": [
    "#Variety of different companies which are part of different sectors for the most part (besides AAPL and MSFT)\n",
    "AAPL['Daily Return'] = AAPL['Adj Close'].pct_change()\n",
    "MSFT['Daily Return'] = MSFT['Adj Close'].pct_change()\n",
    "TSLA['Daily Return'] = TSLA['Adj Close'].pct_change()\n",
    "NKE['Daily Return'] = NKE['Adj Close'].pct_change()\n",
    "GME['Daily Return'] = GME['Adj Close'].pct_change()\n",
    "\n",
    "#AAPL = AAPL.drop(columns = [\"\"])\n",
    "#sns.jointplot('AAPL', 'AAPL', AAPL['Daily Return'], kind='scatter', color = 'red')"
   ]
  },
  {
   "cell_type": "markdown",
   "id": "devoted-france",
   "metadata": {},
   "source": [
    "### How much value do we put at risk by investing in a particular company?"
   ]
  },
  {
   "cell_type": "code",
   "execution_count": null,
   "id": "honey-beaver",
   "metadata": {},
   "outputs": [],
   "source": [
    "#AAPL['Daily Return'] = AAPL['Adj Close'].pct_change()\n",
    "#AAPL['Daily Return'].tail()\n",
    "sns.displot(AAPL['Daily Return'].dropna(),bins = 50, color = 'purple')"
   ]
  },
  {
   "cell_type": "code",
   "execution_count": null,
   "id": "united-ferry",
   "metadata": {},
   "outputs": [],
   "source": []
  }
 ],
 "metadata": {
  "kernelspec": {
   "display_name": "Python 3",
   "language": "python",
   "name": "python3"
  },
  "language_info": {
   "codemirror_mode": {
    "name": "ipython",
    "version": 3
   },
   "file_extension": ".py",
   "mimetype": "text/x-python",
   "name": "python",
   "nbconvert_exporter": "python",
   "pygments_lexer": "ipython3",
   "version": "3.9.1"
  }
 },
 "nbformat": 4,
 "nbformat_minor": 5
}

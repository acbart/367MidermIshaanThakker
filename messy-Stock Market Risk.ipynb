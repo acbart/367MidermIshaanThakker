{
 "cells": [
  {
   "cell_type": "markdown",
   "id": "humanitarian-lesbian",
   "metadata": {},
   "source": [
    "# CISC 367 Midterm Messy Notebook"
   ]
  },
  {
   "cell_type": "markdown",
   "id": "invalid-recipe",
   "metadata": {},
   "source": [
    "<em> Ishaan Thakker </em>"
   ]
  },
  {
   "cell_type": "markdown",
   "id": "common-copper",
   "metadata": {},
   "source": [
    "* When first coming up with exactly what I wanted my research to include one stock such as APPL and the S&P 500 index\n",
    "* Using this idea and inspiration from Dr. Bart I realized that it was probably a good idea to include many different companies and analyze them to possibly compare different parts of the market, where the risk is and isn't"
   ]
  },
  {
   "cell_type": "markdown",
   "id": "nutritional-large",
   "metadata": {},
   "source": [
    "Copy over details from midterm background and add more definitions and insight on analysis"
   ]
  },
  {
   "cell_type": "markdown",
   "id": "traditional-translator",
   "metadata": {},
   "source": [
    "Set up the data\n",
    "\n"
   ]
  },
  {
   "cell_type": "code",
   "execution_count": 5,
   "id": "coordinate-review",
   "metadata": {},
   "outputs": [],
   "source": [
    "import pandas as pd\n",
    "from scipy import stats\n",
    "import matplotlib.pyplot as plt\n",
    "\n",
    "#Apple \n",
    "AAPL = pd.read_csv(\"data/AAPL.csv\")\n",
    "#Microsoft \n",
    "MSFT = pd.read_csv(\"data/MSFT.csv\")\n",
    "#Tesla\n",
    "TSLA = pd.read_csv(\"data/TSLA.csv\")\n",
    "#Nike\n",
    "NKE = pd.read_csv(\"data/NKE.csv\")\n",
    "#Gamestop\n",
    "GME = pd.read_csv(\"data/GME.csv\")\n",
    "#S&P 500\n",
    "SP500 = pd.read_csv(\"data/constituents_csv.csv\")\n",
    "\n",
    "MSFT.sort_values(by = ['Date'], inplace = True, ascending = False)\n",
    "TSLA.sort_values(by = ['Date'], inplace = True, ascending = False)\n",
    "NKE.sort_values(by = ['Date'], inplace = True, ascending = False)\n",
    "GME.sort_values(by = ['Date'], inplace = True, ascending = False)"
   ]
  },
  {
   "cell_type": "code",
   "execution_count": null,
   "id": "equivalent-suggestion",
   "metadata": {},
   "outputs": [],
   "source": []
  }
 ],
 "metadata": {
  "kernelspec": {
   "display_name": "Python 3",
   "language": "python",
   "name": "python3"
  },
  "language_info": {
   "codemirror_mode": {
    "name": "ipython",
    "version": 3
   },
   "file_extension": ".py",
   "mimetype": "text/x-python",
   "name": "python",
   "nbconvert_exporter": "python",
   "pygments_lexer": "ipython3",
   "version": "3.9.1"
  }
 },
 "nbformat": 4,
 "nbformat_minor": 5
}
